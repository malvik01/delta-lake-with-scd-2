{
 "cells": [
  {
   "cell_type": "markdown",
   "metadata": {
    "application/vnd.databricks.v1+cell": {
     "cellMetadata": {},
     "inputWidgets": {},
     "nuid": "ae10042e-f191-4389-ac94-ff52289b853d",
     "showTitle": false,
     "title": ""
    }
   },
   "source": [
    "## Config"
   ]
  },
  {
   "cell_type": "code",
   "execution_count": 0,
   "metadata": {
    "application/vnd.databricks.v1+cell": {
     "cellMetadata": {
      "byteLimit": 2048000,
      "rowLimit": 10000
     },
     "inputWidgets": {},
     "nuid": "ca58c62b-487d-45bf-926b-5e19406e0b85",
     "showTitle": false,
     "title": ""
    }
   },
   "outputs": [
    {
     "output_type": "execute_result",
     "data": {
      "text/plain": [
       "DataFrame[]"
      ]
     },
     "execution_count": 24,
     "metadata": {},
     "output_type": "execute_result"
    }
   ],
   "source": [
    "# catalog and schema creation\n",
    "spark.sql('create catalog if not exists scd_2_demo')\n",
    "spark.sql('create schema if not exists scd_2_demo.bronze')\n",
    "spark.sql('create schema if not exists scd_2_demo.silver')\n",
    "spark.sql('create schema if not exists scd_2_demo.gold')"
   ]
  },
  {
   "cell_type": "code",
   "execution_count": 0,
   "metadata": {
    "application/vnd.databricks.v1+cell": {
     "cellMetadata": {
      "byteLimit": 2048000,
      "rowLimit": 10000
     },
     "inputWidgets": {},
     "nuid": "efff6e4c-8312-4cd4-b632-a319a6cb1005",
     "showTitle": false,
     "title": ""
    }
   },
   "outputs": [],
   "source": [
    "# importing libraries\n",
    "from pyspark.sql.functions import *\n",
    "from pyspark.sql.types import *\n",
    "from delta import *"
   ]
  },
  {
   "cell_type": "code",
   "execution_count": 0,
   "metadata": {
    "application/vnd.databricks.v1+cell": {
     "cellMetadata": {
      "byteLimit": 2048000,
      "rowLimit": 10000
     },
     "inputWidgets": {},
     "nuid": "2a30396d-4f41-4c94-8501-01150e6cca7f",
     "showTitle": false,
     "title": ""
    }
   },
   "outputs": [],
   "source": [
    "# defining variables\n",
    "v_timestamp = dbutils.widgets.get('p_timestamp')\n",
    "v_customers_path = 'abfss://dbw-demo@stdaukdbwdemodevsuk001.dfs.core.windows.net/scd_2_demo/*.csv'"
   ]
  },
  {
   "cell_type": "markdown",
   "metadata": {
    "application/vnd.databricks.v1+cell": {
     "cellMetadata": {},
     "inputWidgets": {},
     "nuid": "c29aa932-0a36-434d-a39b-95e521e5a0ad",
     "showTitle": false,
     "title": ""
    }
   },
   "source": [
    "## Bronze"
   ]
  },
  {
   "cell_type": "code",
   "execution_count": 0,
   "metadata": {
    "application/vnd.databricks.v1+cell": {
     "cellMetadata": {
      "byteLimit": 2048000,
      "rowLimit": 10000
     },
     "inputWidgets": {},
     "nuid": "e9d7a9fc-4e47-44d4-95f2-781727c732a2",
     "showTitle": false,
     "title": ""
    }
   },
   "outputs": [],
   "source": [
    "# schema for customers data\n",
    "v_schema = StructType(\n",
    "    [StructField(\"customer_id\", IntegerType(), False), \n",
    "     StructField(\"company_name\", StringType(), False)])"
   ]
  },
  {
   "cell_type": "code",
   "execution_count": 0,
   "metadata": {
    "application/vnd.databricks.v1+cell": {
     "cellMetadata": {
      "byteLimit": 2048000,
      "rowLimit": 10000
     },
     "inputWidgets": {},
     "nuid": "e3b080b6-2049-45e9-b7d4-4af87bb24e9d",
     "showTitle": false,
     "title": ""
    }
   },
   "outputs": [],
   "source": [
    "# processed_time column\n",
    "df_customers_bronze = spark.read.option('header',True).schema(v_schema).csv(v_customers_path).withColumn('processed_time', to_timestamp(lit(v_timestamp)))"
   ]
  },
  {
   "cell_type": "code",
   "execution_count": 0,
   "metadata": {
    "application/vnd.databricks.v1+cell": {
     "cellMetadata": {
      "byteLimit": 2048000,
      "rowLimit": 10000
     },
     "inputWidgets": {},
     "nuid": "dcd294a9-ce25-423a-a662-b16f2c4a2413",
     "showTitle": false,
     "title": ""
    }
   },
   "outputs": [],
   "source": [
    "# writing to bronze table\n",
    "df_customers_bronze.write.format('delta').mode('append').saveAsTable('scd_2_demo.bronze.customers')"
   ]
  },
  {
   "cell_type": "markdown",
   "metadata": {
    "application/vnd.databricks.v1+cell": {
     "cellMetadata": {},
     "inputWidgets": {},
     "nuid": "97b6f8f1-682b-4025-9dcf-aa9738aae318",
     "showTitle": false,
     "title": ""
    }
   },
   "source": [
    "## Silver"
   ]
  },
  {
   "cell_type": "markdown",
   "metadata": {
    "application/vnd.databricks.v1+cell": {
     "cellMetadata": {},
     "inputWidgets": {},
     "nuid": "baefb3e7-7db8-4046-8503-bd29ea65c06c",
     "showTitle": false,
     "title": ""
    }
   },
   "source": [
    "- https://learn.microsoft.com/en-us/azure/databricks/delta/merge\n",
    "- https://docs.delta.io/latest/api/python/index.html"
   ]
  },
  {
   "cell_type": "code",
   "execution_count": 0,
   "metadata": {
    "application/vnd.databricks.v1+cell": {
     "cellMetadata": {
      "byteLimit": 2048000,
      "rowLimit": 10000
     },
     "inputWidgets": {},
     "nuid": "112238eb-298a-4001-a17c-19c4552b7cae",
     "showTitle": false,
     "title": ""
    }
   },
   "outputs": [],
   "source": [
    "try:\n",
    "    # defining the delta table and dataframes\n",
    "    target_delta = DeltaTable.forName(spark, \"scd_2_demo.silver.customers_scd_2\")\n",
    "    df_customers_bronze = spark.read.table('scd_2_demo.bronze.customers').filter(col('processed_time')==to_timestamp(lit(v_timestamp))).select('customer_id','company_name')\n",
    "\n",
    "    # merge operation\n",
    "    (target_delta.alias('target')\n",
    "    .merge(df_customers_bronze.alias('source'), \"source.customer_id = target.customer_id\")\n",
    "    .whenMatchedUpdate(\n",
    "       condition=\"target.end_time is null\",\n",
    "       set={\"target.end_time\": lit(v_timestamp)}\n",
    "   )\\\n",
    "   .execute()\n",
    "    )\n",
    "\n",
    "    # Appending the new records\n",
    "    df_customers_bronze = df_customers_bronze.\\\n",
    "                            withColumn('effective_time', to_timestamp(lit(v_timestamp))).\\\n",
    "                            withColumn('end_time', lit(None)).select('customer_id','company_name', 'effective_time', col('end_time').cast('timestamp'))\n",
    "\n",
    "    df_customers_bronze.write.mode('append').saveAsTable('scd_2_demo.silver.customers_scd_2')\n",
    "\n",
    "except:\n",
    "    # The except block should only run the first time this notebook has been executed\n",
    "    # This block will run if the previous block fails, this will be because a silver table doesn't exist yet\n",
    "    df_customers_bronze = spark.read.table('scd_2_demo.bronze.customers')\n",
    "\n",
    "    df_customers_silver = df_customers_bronze.\\\n",
    "                        withColumn('effective_time', to_timestamp(lit(v_timestamp))).\\\n",
    "                        withColumn('end_time', lit(None).cast('timestamp')).\\\n",
    "                        select('customer_id', 'company_name','effective_time', 'end_time')\n",
    "\n",
    "    df_customers_silver.write.saveAsTable('scd_2_demo.silver.customers_scd_2')"
   ]
  },
  {
   "cell_type": "markdown",
   "metadata": {
    "application/vnd.databricks.v1+cell": {
     "cellMetadata": {},
     "inputWidgets": {},
     "nuid": "9fb010e8-ea38-4451-9ea7-43342492903b",
     "showTitle": false,
     "title": ""
    }
   },
   "source": [
    "## Gold"
   ]
  },
  {
   "cell_type": "code",
   "execution_count": 0,
   "metadata": {
    "application/vnd.databricks.v1+cell": {
     "cellMetadata": {
      "byteLimit": 2048000,
      "rowLimit": 10000
     },
     "inputWidgets": {},
     "nuid": "ccb82e94-e862-4d32-8143-ecceea032259",
     "showTitle": false,
     "title": ""
    }
   },
   "outputs": [],
   "source": [
    "# filtering silver layer table to a df while returning only active records, storing the result into a variable\n",
    "df_customers_gold = spark.read.table('scd_2_demo.silver.customers_scd_2').filter('end_time is null').select('customer_id', 'company_name')"
   ]
  },
  {
   "cell_type": "code",
   "execution_count": 0,
   "metadata": {
    "application/vnd.databricks.v1+cell": {
     "cellMetadata": {
      "byteLimit": 2048000,
      "rowLimit": 10000
     },
     "inputWidgets": {},
     "nuid": "2b2e777f-8fd1-4000-b50e-93bd3829864a",
     "showTitle": false,
     "title": ""
    }
   },
   "outputs": [],
   "source": [
    "# writing to gold table\n",
    "df_customers_gold.write.mode('overwrite').saveAsTable('scd_2_demo.gold.customers_active')"
   ]
  }
 ],
 "metadata": {
  "application/vnd.databricks.v1+notebook": {
   "dashboards": [],
   "language": "python",
   "notebookMetadata": {
    "mostRecentlyExecutedCommandWithImplicitDF": {
     "commandId": 2662690805215259,
     "dataframes": [
      "_sqldf"
     ]
    },
    "pythonIndentUnit": 4
   },
   "notebookName": "Delta Lake with SCD Type 2",
   "widgets": {}
  }
 },
 "nbformat": 4,
 "nbformat_minor": 0
}
